{
 "cells": [
  {
   "cell_type": "code",
   "execution_count": 2,
   "metadata": {},
   "outputs": [],
   "source": [
    "import pandas as pd\n",
    "import matplotlib.pyplot as plt\n",
    "import seaborn as sns\n",
    "import numpy as np\n",
    "from pandas_profiling import ProfileReport"
   ]
  },
  {
   "cell_type": "code",
   "execution_count": 3,
   "metadata": {},
   "outputs": [],
   "source": [
    "font = r'pima.csv'\n",
    "\n",
    "dataset = pd.DataFrame()\n",
    "\n",
    "dataset = pd.read_csv(font, sep='\\t')"
   ]
  },
  {
   "cell_type": "code",
   "execution_count": 4,
   "metadata": {},
   "outputs": [],
   "source": [
    "dataset = dataset.rename(columns={\"plasma glucose\": \"Glucose\", \"Diastolic blood pressure\": \"BloodPressure\", \"Triceps skin fold thickness\" : \"SkinThickness\", \"2-Hour serum insulin\" : \"Insulin\", \"Body mass index\" : \"BMI\", \"Diabetes pedigree function\" : \"DiabetesPedigree\", \"target\" : \"Outcome\"})"
   ]
  },
  {
   "cell_type": "code",
   "execution_count": 5,
   "metadata": {},
   "outputs": [],
   "source": [
    "with_diabetes = dataset.loc[dataset['Outcome'] == 1]\n",
    "no_diabetes   = dataset.loc[dataset['Outcome'] == 0]\n",
    "\n",
    "with_diabetes = with_diabetes.replace({'SkinThickness':0}, np.median(with_diabetes['SkinThickness']))\n",
    "no_diabetes = no_diabetes.replace({'SkinThickness':0}, np.median(no_diabetes['SkinThickness']))\n",
    "with_diabetes = with_diabetes.replace({'Insulin':0}, np.median(with_diabetes['Insulin']))\n",
    "no_diabetes = no_diabetes.replace({'Insulin':0}, np.median(no_diabetes['Insulin']))\n",
    "with_diabetes = with_diabetes.replace({'Glucose':0}, np.median(with_diabetes['Glucose']))\n",
    "no_diabetes = no_diabetes.replace({'Glucose':0}, np.median(no_diabetes['Glucose']))\n",
    "with_diabetes = with_diabetes.replace({'BMI':0}, np.median(with_diabetes['BMI']))\n",
    "no_diabetes = no_diabetes.replace({'BMI':0}, np.median(no_diabetes['BMI']))\n",
    "with_diabetes = with_diabetes.replace({'BloodPressure':0}, np.median(with_diabetes['BloodPressure']))\n",
    "no_diabetes = no_diabetes.replace({'BloodPressure':0}, np.median(no_diabetes['BloodPressure']))\n",
    "\n",
    "dataset = pd.concat([with_diabetes, no_diabetes])"
   ]
  },
  {
   "cell_type": "code",
   "execution_count": 6,
   "metadata": {},
   "outputs": [],
   "source": [
    "y = dataset.Outcome\n",
    "x = dataset.drop('Outcome', axis=1)\n",
    "columns = x.columns\n",
    "\n",
    "#from sklearn.preprocessing import StandardScaler\n",
    "#scaler = StandardScaler()\n",
    "#X = scaler.fit_transform(x)\n",
    "\n",
    "data_x = pd.DataFrame(x, columns = columns)"
   ]
  },
  {
   "cell_type": "code",
   "execution_count": 7,
   "metadata": {},
   "outputs": [],
   "source": [
    "from sklearn.model_selection import train_test_split\n",
    "\n",
    "x_train, x_test, y_train, y_test = train_test_split(data_x, y, test_size = 0.15, random_state = 45)"
   ]
  },
  {
   "cell_type": "code",
   "execution_count": 69,
   "metadata": {},
   "outputs": [
    {
     "data": {
      "text/plain": [
       "array([430, 430])"
      ]
     },
     "execution_count": 69,
     "metadata": {},
     "output_type": "execute_result"
    }
   ],
   "source": [
    "from imblearn.over_sampling import SMOTE\n",
    "\n",
    "smt = SMOTE()\n",
    "x_train, y_train = smt.fit_sample(x_train, y_train)\n",
    "np.bincount(y_train)"
   ]
  },
  {
   "cell_type": "code",
   "execution_count": 76,
   "metadata": {},
   "outputs": [
    {
     "name": "stdout",
     "output_type": "stream",
     "text": [
      "Accuracy of Neural Network on test set: 0.84\n"
     ]
    },
    {
     "data": {
      "image/png": "[encoded data removed]",
      "text/plain": [
       "<Figure size 432x288 with 1 Axes>"
      ]
     },
     "metadata": {
      "needs_background": "light"
     },
     "output_type": "display_data"
    }
   ],
   "source": [
    "from sklearn.neural_network import MLPClassifier\n",
    "model = MLPClassifier(max_iter = 2000, hidden_layer_sizes=(9,5), learning_rate_init=.001)\n",
    "model.fit(x_train, y_train)\n",
    "pd.DataFrame(model.loss_curve_).plot()\n",
    "y_pred = model.predict(x_test)\n",
    "print('Accuracy of Neural Network on test set: {:.2f}'.format(model.score(x_test, y_test)))"
   ]
  },
  {
   "cell_type": "code",
   "execution_count": 77,
   "metadata": {},
   "outputs": [
    {
     "name": "stdout",
     "output_type": "stream",
     "text": [
      "0.8326118326118326\n",
      "0.8297394429469902\n",
      "0.8419254658385094\n"
     ]
    }
   ],
   "source": [
    "from sklearn.metrics import f1_score\n",
    "from sklearn.metrics import precision_score\n",
    "from sklearn.metrics import recall_score\n",
    "\n",
    "print(f1_score(y_test, y_pred, average=\"macro\"))\n",
    "print(precision_score(y_test, y_pred, average=\"macro\"))\n",
    "print(recall_score(y_test, y_pred, average=\"macro\"))"
   ]
  },
  {
   "cell_type": "code",
   "execution_count": 10,
   "metadata": {},
   "outputs": [],
   "source": [
    "#file = ProfileReport(dataset)\n",
    "#file.to_file(output_file='output.html')"
   ]
  }
 ],
 "metadata": {
  "kernelspec": {
   "display_name": "Python 3",
   "language": "python",
   "name": "python3"
  },
  "language_info": {
   "codemirror_mode": {
    "name": "ipython",
    "version": 3
   },
   "file_extension": ".py",
   "mimetype": "text/x-python",
   "name": "python",
   "nbconvert_exporter": "python",
   "pygments_lexer": "ipython3",
   "version": "3.8.6"
  }
 },
 "nbformat": 4,
 "nbformat_minor": 4
}
